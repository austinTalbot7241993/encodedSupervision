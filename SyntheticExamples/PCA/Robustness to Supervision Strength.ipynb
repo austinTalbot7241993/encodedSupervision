{
 "cells": [
  {
   "cell_type": "markdown",
   "metadata": {},
   "source": [
    "# Import the packages needed"
   ]
  },
  {
   "cell_type": "code",
   "execution_count": 1,
   "metadata": {},
   "outputs": [],
   "source": [
    "import numpy as np\n",
    "import sys,os\n",
    "sys.path.append('../Code/')\n",
    "import sklearn.decomposition as dp\n",
    "import matplotlib.pyplot as plt\n",
    "import numpy.random as rand\n",
    "import numpy.linalg as la\n",
    "from sPCA import spca_enc,spca_local\n",
    "from matplotlib import rc\n",
    "import matplotlib\n",
    "matplotlib.rcParams['text.usetex'] = True\n",
    "\n",
    "def csSim(vec1,vec2):\n",
    "    vec1 = np.squeeze(vec1)\n",
    "    vec2 = np.squeeze(vec2)\n",
    "    num = np.dot(vec1,vec2)\n",
    "    denom = la.norm(vec1)*la.norm(vec2)\n",
    "    rat = num/denom\n",
    "    return rat\n",
    "\n",
    "def sortedEig(E):\n",
    "    eigenValues,eigenVectors = la.eig(E)\n",
    "    idx = eigenValues.argsort()[::-1]\n",
    "    eigenValues = eigenValues[idx]\n",
    "    eigenVectors = eigenVectors[:,idx]\n",
    "    return eigenValues,eigenVectors\n"
   ]
  },
  {
   "cell_type": "markdown",
   "metadata": {},
   "source": [
    "## Generate the data\n",
    "3 Latent dimensions with different variances to ensure identifiability with random addative noise. The train set is small to simulate a ``data-poor`` environment, but a large test set to evaluate performance"
   ]
  },
  {
   "cell_type": "code",
   "execution_count": 2,
   "metadata": {},
   "outputs": [
    {
     "name": "stdout",
     "output_type": "stream",
     "text": [
      "[[-0.82217116]\n",
      " [ 0.98399671]\n",
      " [-0.98025875]]\n"
     ]
    }
   ],
   "source": [
    "\n",
    "\n",
    "rand.seed(1994)\n",
    "N = 100000 # Number of observations\n",
    "p = 20 # Dimension of feature space\n",
    "q = 1 # Supervised dimension\n",
    "L = 3 # True latent dimension\n",
    "eps_x = 1.5 # Noise for features\n",
    "eps_y = 1.5 # Noise for supervision\n",
    "S2 = rand.randn(N,L) # Latent factors\n",
    "\n",
    "#Generating the features with set eigenvalues\n",
    "lamb1 = 4.\n",
    "lamb2 = 3.0\n",
    "lamb3 = 2.0\n",
    "\n",
    "S2[:,0] = S2[:,0]\n",
    "S2[:,1] = S2[:,1]\n",
    "S2[:,2] = S2[:,2]\n",
    "\n",
    "W_orig = rand.randn(L,p)\n",
    "W_orig[1] = W_orig[1] - np.dot(W_orig[0],W_orig[1])/np.dot(W_orig[0],W_orig[0])*W_orig[0]\n",
    "W_orig[2] = W_orig[2] - np.dot(W_orig[0],W_orig[2])/np.dot(W_orig[0],W_orig[0])*W_orig[0]\n",
    "W_orig[2] = W_orig[2] - np.dot(W_orig[1],W_orig[2])/np.dot(W_orig[1],W_orig[1])*W_orig[1]\n",
    "\n",
    "W_orig[0] = W_orig[0]/la.norm(W_orig[0])*lamb1\n",
    "W_orig[1] = W_orig[1]/la.norm(W_orig[1])*lamb2\n",
    "W_orig[2] = W_orig[2]/la.norm(W_orig[2])*lamb3\n",
    "\n",
    "#Supervision strength\n",
    "mult = 3\n",
    "D_orig = rand.randn(L,q)*mult\n",
    "print(D_orig)\n",
    "\n",
    "X_nonoise = np.dot(S2,W_orig) \n",
    "Y_nonoise = np.dot(S2,D_orig)\n",
    "\n",
    "noise_x = eps_x*rand.randn(N,p)\n",
    "noise_y = eps_y*rand.randn(N,q)\n",
    "\n",
    "X = X_nonoise + noise_x\n",
    "Y = Y_nonoise + noise_y\n",
    "\n",
    "N = 300\n",
    "X_nonoise_train = X_nonoise[:N]\n",
    "Y_nonoise_train = Y_nonoise[:N]\n",
    "X_train = X[:N]\n",
    "Y_train = Y[:N]\n",
    "\n",
    "X_nonoise_test = X_nonoise[N:]\n",
    "Y_nonoise_test = Y_nonoise[N:]\n",
    "X_test = X[N:]\n",
    "Y_test = Y[N:]\n",
    "\n"
   ]
  },
  {
   "cell_type": "markdown",
   "metadata": {},
   "source": [
    "## Train a sequence of local and encoded models with varying strengths and save the reconstruction and prediction costs "
   ]
  },
  {
   "cell_type": "code",
   "execution_count": 3,
   "metadata": {},
   "outputs": [],
   "source": [
    "NN = 200\n",
    "mus = np.logspace(-1.5,1.5,NN)\n",
    "out_x_tr_t = np.zeros(NN)\n",
    "out_x_te_t = np.zeros(NN)\n",
    "out_y_tr_t = np.zeros(NN)\n",
    "out_y_te_t = np.zeros(NN)\n",
    "\n",
    "out_x_tr_p = np.zeros(NN)\n",
    "out_x_te_p = np.zeros(NN)\n",
    "out_y_tr_p = np.zeros(NN)\n",
    "out_y_te_p = np.zeros(NN)\n",
    "\n",
    "drag_s = np.zeros(NN)\n",
    "\n",
    "for i in range(NN):\n",
    "    model = spca_local(3,lamb=mus[i])\n",
    "    model.fit(X_train,Y_train)\n",
    "\n",
    "    S_train_p = model.project(X_train)\n",
    "    S_test_p = model.project(X_test)\n",
    "    S_train = model.transform(X_train,Y_train)\n",
    "    S_test = model.transform(X_test,Y_test)\n",
    "    Wx = model.W_\n",
    "    Wy = model.D_\n",
    "\n",
    "\n",
    "    X_recon_train = np.dot(S_train_p,Wx.T)\n",
    "    X_recon_test = np.dot(S_test_p,Wx.T)\n",
    "    Y_recon_train = np.dot(S_train_p,Wy.T)\n",
    "    Y_recon_test = np.dot(S_test_p,Wy.T)\n",
    "\n",
    "    #These have y known\n",
    "    X_recon_train_t = np.dot(S_train,Wx.T)\n",
    "    X_recon_test_t = np.dot(S_test,Wx.T)\n",
    "    Y_recon_train_t = np.dot(S_train,Wy.T)\n",
    "    Y_recon_test_t = np.dot(S_test,Wy.T)\n",
    "\n",
    "\n",
    "    out_x_tr_p[i] = np.mean((X_recon_train-X_train)**2)\n",
    "    out_x_te_p[i] = np.mean((X_recon_test-X_test)**2)\n",
    "    out_y_tr_p[i] = np.mean((Y_recon_train-Y_train)**2)\n",
    "    out_y_te_p[i] = np.mean((Y_recon_test-Y_test)**2)\n",
    "\n",
    "    #These have y known _t\n",
    "    out_x_tr_t[i] = np.mean((X_recon_train_t-X_train)**2)\n",
    "    out_x_te_t[i] = np.mean((X_recon_test_t-X_test)**2)\n",
    "    out_y_tr_t[i] = np.mean((Y_recon_train_t-Y_train)**2)\n",
    "    out_y_te_t[i] = np.mean((Y_recon_test_t-Y_test)**2)\n",
    "\n",
    "    drag_s[i] = np.mean((S_test-S_test_p)**2)\n",
    "    \n",
    "out_x_tr_p_e = np.zeros(NN)\n",
    "out_x_te_p_e = np.zeros(NN)\n",
    "out_y_tr_p_e = np.zeros(NN)\n",
    "out_y_te_p_e = np.zeros(NN)\n",
    "\n",
    "for i in range(NN):\n",
    "    model = spca_enc(3,lamb=mus[i])\n",
    "    model.fit(X_train,Y_train)\n",
    "\n",
    "    S_train_p = model.project(X_train)\n",
    "    S_test_p = model.project(X_test)\n",
    "    Wx = model.W_\n",
    "    Wy = model.D_\n",
    "\n",
    "\n",
    "    X_recon_train = np.dot(S_train_p,Wx.T)\n",
    "    X_recon_test = np.dot(S_test_p,Wx.T)\n",
    "    Y_recon_train = np.dot(S_train_p,Wy.T)\n",
    "    Y_recon_test = np.dot(S_test_p,Wy.T)\n",
    "\n",
    "    out_x_tr_p_e[i] = np.mean((X_recon_train-X_train)**2)\n",
    "    out_x_te_p_e[i] = np.mean((X_recon_test-X_test)**2)\n",
    "    out_y_tr_p_e[i] = np.mean((Y_recon_train-Y_train)**2)\n",
    "    out_y_te_p_e[i] = np.mean((Y_recon_test-Y_test)**2)"
   ]
  },
  {
   "cell_type": "markdown",
   "metadata": {},
   "source": [
    "## Generate the plots"
   ]
  },
  {
   "cell_type": "code",
   "execution_count": 4,
   "metadata": {},
   "outputs": [
    {
     "data": {
      "text/plain": [
       "Text(0.5, 1.0, 'Local Factor Dragging')"
      ]
     },
     "execution_count": 4,
     "metadata": {},
     "output_type": "execute_result"
    },
    {
     "data": {
      "image/png": "[encoded data removed]",
      "text/plain": [
       "<Figure size 1080x360 with 3 Axes>"
      ]
     },
     "metadata": {
      "needs_background": "light"
     },
     "output_type": "display_data"
    }
   ],
   "source": [
    "fs1 = 20\n",
    "fs2 = 22\n",
    "lw = 2.5\n",
    "lMus = np.log(mus)\n",
    "fig, (ax1, ax2,ax3) = plt.subplots(1, 3);\n",
    "fig.set_figheight(5)\n",
    "fig.set_figwidth(15)\n",
    "ax1.plot(lMus,out_x_te_t,c='r',linestyle='dotted',lw=lw,label='Local: Y known')\n",
    "ax1.plot(lMus,out_x_te_p,c='k',linestyle='dashed',lw=lw,label='Local: Y unknown')\n",
    "ax1.plot(lMus,out_x_te_p_e,c='g',linestyle='dashdot',lw=lw,label='Encoded')\n",
    "ax1.set_xlabel('log($\\mu$)',fontsize=fs1)\n",
    "ax1.set_ylabel('MSE',fontsize=fs1)\n",
    "ax1.legend(loc='upper left')\n",
    "ax1.set_title('Reconstruction of X',fontsize=fs2)\n",
    "\n",
    "ax2.plot(lMus,out_y_te_t,c='r',linestyle='dotted',lw=lw,label='Local: Y known')\n",
    "ax2.plot(lMus,out_y_te_p,c='k',linestyle='dashed',lw=lw,label='Local: Y unknown')\n",
    "ax2.plot(lMus,out_y_te_p_e,c='g',linestyle='dashdot',lw=lw,label='Encoded')\n",
    "ax2.set_xlabel('log($\\mu$)',fontsize=fs1)\n",
    "ax2.set_ylabel('MSE',fontsize=fs1)\n",
    "ax2.legend(loc='lower left')\n",
    "ax2.set_title('Prediction of Y',fontsize=fs2)\n",
    "\n",
    "ax3.plot(lMus,drag_s,lw=lw,c='k')\n",
    "ax3.set_xlabel('log($\\mu$)',fontsize=fs1)\n",
    "ax3.set_ylabel('MSE',fontsize=fs1)\n",
    "ax3.set_title('Local Factor Dragging',fontsize=fs2)\n",
    "#fig.savefig('Example1.pdf')"
   ]
  },
  {
   "cell_type": "code",
   "execution_count": null,
   "metadata": {},
   "outputs": [],
   "source": []
  }
 ],
 "metadata": {
  "kernelspec": {
   "display_name": "Python 3",
   "language": "python",
   "name": "python3"
  },
  "language_info": {
   "codemirror_mode": {
    "name": "ipython",
    "version": 3
   },
   "file_extension": ".py",
   "mimetype": "text/x-python",
   "name": "python",
   "nbconvert_exporter": "python",
   "pygments_lexer": "ipython3",
   "version": "3.7.6"
  }
 },
 "nbformat": 4,
 "nbformat_minor": 4
}
